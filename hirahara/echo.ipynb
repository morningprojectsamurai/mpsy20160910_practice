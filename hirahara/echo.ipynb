{
 "cells": [
  {
   "cell_type": "markdown",
   "metadata": {},
   "source": [
    "# 数学的基礎から学ぶ Deep Learning (with Python) Vol. 13【MPS 横浜 第13回】\n",
    "\n",
    "Q1. (+1, -1)をEchoするNNを作ってどんなネットワークができるか見てみよう\n",
    "\n",
    "をやってみた。"
   ]
  },
  {
   "cell_type": "code",
   "execution_count": 1,
   "metadata": {
    "collapsed": false
   },
   "outputs": [],
   "source": [
    "%matplotlib inline\n",
    "import sys\n",
    "sys.path.append('..')\n",
    "from nn.networks import Classifier\n",
    "import helpers\n",
    "from tqdm import tqdm\n",
    "import numpy as np\n",
    "\n",
    "LEARNING_RATE = 0.15\n",
    "\n",
    "# 入力と教師データ\n",
    "data = [( [ np.array([[-1,]]), np.array([[-1,]]) ] ),    # -1 -> -1\n",
    "        ( [ np.array([[ 1,]]), np.array([[ 1,]]) ] ) ]   #  1 ->  1\n",
    "\n",
    "# 学習結果を返す関数\n",
    "def create_classfier(dt, st):\n",
    "    classfier = Classifier('tanh', 1, 'se', LEARNING_RATE)\n",
    "    classfier.add_layer('tanh', 1, alpha=1.0, beta=1.0)\n",
    "    helpers.training(classfier, dt, st)\n",
    "    return classfier"
   ]
  },
  {
   "cell_type": "code",
   "execution_count": 2,
   "metadata": {
    "collapsed": false
   },
   "outputs": [
    {
     "name": "stderr",
     "output_type": "stream",
     "text": [
      "100%|██████████| 100/100 [00:00<00:00, 7161.79it/s]\n",
      "100%|██████████| 1000/1000 [00:00<00:00, 6523.17it/s]\n",
      "100%|██████████| 100000/100000 [00:12<00:00, 7776.90it/s]\n"
     ]
    }
   ],
   "source": [
    "# 100回学習\n",
    "st1 = 100\n",
    "cf1 = create_classfier(data, st1)\n",
    "# 1000回学習\n",
    "st2 = 1000\n",
    "cf2 = create_classfier(data, st2)\n",
    "# 100000回学習\n",
    "st3 = 100000\n",
    "cf3 = create_classfier(data, st3)"
   ]
  },
  {
   "cell_type": "code",
   "execution_count": 3,
   "metadata": {
    "collapsed": false
   },
   "outputs": [
    {
     "data": {
      "image/png": "[encoded data removed]",
      "text/plain": [
       "<matplotlib.figure.Figure at 0x1064acf60>"
      ]
     },
     "metadata": {},
     "output_type": "display_data"
    }
   ],
   "source": [
    "# 学習データの成果を描画\n",
    "import matplotlib.pyplot as plt\n",
    "x = np.array([np.arange(-2.0, 2.0, 0.1)])\n",
    "y1 = cf1.propagate_forward(x)\n",
    "y2 = cf2.propagate_forward(x)\n",
    "y3 = cf3.propagate_forward(x)\n",
    "\n",
    "plt.hlines(   0, -2.0, 2.0, linestyles=\"dashed\")\n",
    "plt.hlines( 1.0, -2.0, 2.0, linestyles=\"dashed\")\n",
    "plt.hlines(-1.0, -2.0, 2.0, linestyles=\"dashed\")\n",
    "\n",
    "plt.vlines(   0, -2.0, 2.0, linestyles=\"dashed\")\n",
    "plt.vlines( 1.0, -2.0, 2.0, linestyles=\"dashed\")\n",
    "plt.vlines(-1.0, -2.0, 2.0, linestyles=\"dashed\")\n",
    "\n",
    "plt.plot(x[0], y1[0], label=st1)\n",
    "plt.plot(x[0], y2[0], label=st2)\n",
    "plt.plot(x[0], y3[0], label=st3)\n",
    "plt.legend(loc='upper left')\n",
    "plt.show()"
   ]
  },
  {
   "cell_type": "markdown",
   "metadata": {},
   "source": [
    "学習の回数が増えるほど、グラフは急峻になる。\n",
    "\n",
    "100回学習のグラフが原点を通っていないのは、まだbの値が十分に減っていないから。\n",
    "\n",
    "では、Wとbの値はどれくらいか。"
   ]
  },
  {
   "cell_type": "code",
   "execution_count": 4,
   "metadata": {
    "collapsed": false
   },
   "outputs": [
    {
     "name": "stdout",
     "output_type": "stream",
     "text": [
      "cf1(   100) (W, b) = [[ 2.00328454]] [[ 0.0033138]]\n",
      "cf2(  1000) (W, b) = [[ 3.12278415]] [[ -1.00529027e-05]]\n",
      "cf3(100000) (W, b) = [[ 5.41405425]] [[  1.65699573e-05]]\n"
     ]
    }
   ],
   "source": [
    "print('cf1(   100) (W, b) =', cf1._layers[0]._W, cf1._layers[0]._b)\n",
    "print('cf2(  1000) (W, b) =', cf2._layers[0]._W, cf2._layers[0]._b)\n",
    "print('cf3(100000) (W, b) =', cf3._layers[0]._W, cf3._layers[0]._b)"
   ]
  },
  {
   "cell_type": "markdown",
   "metadata": {},
   "source": [
    "Wをもっと大きな数値にしてb=0にするとどうなるか？\n",
    "\n",
    "cf4を作って比較してみる"
   ]
  },
  {
   "cell_type": "code",
   "execution_count": 5,
   "metadata": {
    "collapsed": false
   },
   "outputs": [
    {
     "name": "stderr",
     "output_type": "stream",
     "text": [
      "0it [00:00, ?it/s]\n"
     ]
    }
   ],
   "source": [
    "cf4 = create_classfier(data, 0)\n",
    "cf4._layers[0]._W = np.array([[1000000000000,]])\n",
    "cf4._layers[0]._b = np.array([[0,]])"
   ]
  },
  {
   "cell_type": "code",
   "execution_count": 6,
   "metadata": {
    "collapsed": false
   },
   "outputs": [
    {
     "data": {
      "image/png": "[encoded data removed]",
      "text/plain": [
       "<matplotlib.figure.Figure at 0x1064acf28>"
      ]
     },
     "metadata": {},
     "output_type": "display_data"
    }
   ],
   "source": [
    "y4 = cf4.propagate_forward(x)\n",
    "\n",
    "plt.hlines(   0, -2.0, 2.0, linestyles=\"dashed\")\n",
    "plt.hlines( 1.0, -2.0, 2.0, linestyles=\"dashed\")\n",
    "plt.hlines(-1.0, -2.0, 2.0, linestyles=\"dashed\")\n",
    "\n",
    "plt.vlines(   0, -2.0, 2.0, linestyles=\"dashed\")\n",
    "plt.vlines( 1.0, -2.0, 2.0, linestyles=\"dashed\")\n",
    "plt.vlines(-1.0, -2.0, 2.0, linestyles=\"dashed\")\n",
    "\n",
    "plt.plot(x[0], y1[0], label=st1)\n",
    "plt.plot(x[0], y2[0], label=st2)\n",
    "plt.plot(x[0], y3[0], label=st3)\n",
    "plt.plot(x[0], y4[0], label=\"cf4\")\n",
    "plt.legend(loc='upper left')\n",
    "\n",
    "plt.show()"
   ]
  },
  {
   "cell_type": "code",
   "execution_count": null,
   "metadata": {
    "collapsed": true
   },
   "outputs": [],
   "source": []
  }
 ],
 "metadata": {
  "kernelspec": {
   "display_name": "Python 3",
   "language": "python",
   "name": "python3"
  },
  "language_info": {
   "codemirror_mode": {
    "name": "ipython",
    "version": 3
   },
   "file_extension": ".py",
   "mimetype": "text/x-python",
   "name": "python",
   "nbconvert_exporter": "python",
   "pygments_lexer": "ipython3",
   "version": "3.5.1"
  }
 },
 "nbformat": 4,
 "nbformat_minor": 1
}
